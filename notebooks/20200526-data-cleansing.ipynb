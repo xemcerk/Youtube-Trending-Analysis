{
 "cells": [
  {
   "cell_type": "code",
   "execution_count": 1,
   "metadata": {},
   "outputs": [],
   "source": [
    "import pandas as pd\n",
    "import csv\n",
    "import string\n",
    "\n",
    "root_dir = os.path.join(os.getcwd(), '..', 'src')\n",
    "sys.path.append(root_dir)\n",
    "\n",
    "from data_preprocess import choose_columns, remove_punc, cal_delta_days\n",
    "\n",
    "# 读入数据\n",
    "ytb = pd.read_csv('../data/01_raw/USvideos.csv')"
   ]
  },
  {
   "cell_type": "code",
   "execution_count": 2,
   "metadata": {},
   "outputs": [],
   "source": [
    "# 选择列\n",
    "cols = ['video_id', 'trending_date', 'title', 'channel_title', 'category_id', 'tags', 'publish_time', 'views', 'likes', 'dislikes', 'comment_count', 'description']\n",
    "ytb = choose_columns(ytb, cols)"
   ]
  },
  {
   "cell_type": "code",
   "execution_count": 3,
   "metadata": {},
   "outputs": [],
   "source": [
    "# 移除标点符号\n",
    "remove_punc_cols = ['description', 'title', 'tags']\n",
    "ytb = remove_punc(ytb, remove_punc_cols)"
   ]
  },
  {
   "cell_type": "code",
   "execution_count": 4,
   "metadata": {},
   "outputs": [],
   "source": [
    "# 计算从publish_time到trending_date之间的距离天数\n",
    "ytb = cal_delta_days(ytb)"
   ]
  },
  {
   "cell_type": "code",
   "execution_count": 5,
   "metadata": {},
   "outputs": [
    {
     "output_type": "execute_result",
     "data": {
      "text/plain": "      video_id  trending_date  \\\n0  2kyS6SvSYSE       20171114   \n1  1ZAPwfrtAFY       20171114   \n2  5qpjK5DgCt4       20171114   \n3  puqaWrEC7tY       20171114   \n4  d380meD0W0M       20171114   \n\n                                               title          channel_title  \\\n0                 WE WANT TO TALK ABOUT OUR MARRIAGE           CaseyNeistat   \n1  The Trump Presidency Last Week Tonight with Jo...        LastWeekTonight   \n2   Racist Superman Rudy Mancuso King Bach Lele Pons           Rudy Mancuso   \n3                     Nickelback Lyrics Real or Fake  Good Mythical Morning   \n4                              I Dare You GOING BALD               nigahiga   \n\n   category_id                                               tags  \\\n0           22                                    SHANtell martin   \n1           24  last week tonight trump presidency last week t...   \n2           23  racist superman rudy mancuso king bach racist ...   \n3           24  rhett and link gmm good mythical morning rhett...   \n4           24  ryan higa higatv nigahiga i dare you idy rhpc ...   \n\n               publish_time    views   likes  dislikes  comment_count  \\\n0  2017-11-13T17:13:01.000Z   748374   57527      2966          15954   \n1  2017-11-13T07:30:00.000Z  2418783   97185      6146          12703   \n2  2017-11-12T19:05:24.000Z  3191434  146033      5339           8181   \n3  2017-11-13T11:00:04.000Z   343168   10172       666           2146   \n4  2017-11-12T18:01:41.000Z  2095731  132235      1989          17518   \n\n                                         description  delta_days  \n0  SHANTELL S CHANNEL https www youtube com shant...           1  \n1  One year after the presidential election John ...           1  \n2  WATCH MY PREVIOUS VIDEO ▶ n nSUBSCRIBE ► https...           2  \n3  Today we find out if Link is a Nickelback amat...           1  \n4  I know it s been a while since we did this sho...           2  ",
      "text/html": "<div>\n<style scoped>\n    .dataframe tbody tr th:only-of-type {\n        vertical-align: middle;\n    }\n\n    .dataframe tbody tr th {\n        vertical-align: top;\n    }\n\n    .dataframe thead th {\n        text-align: right;\n    }\n</style>\n<table border=\"1\" class=\"dataframe\">\n  <thead>\n    <tr style=\"text-align: right;\">\n      <th></th>\n      <th>video_id</th>\n      <th>trending_date</th>\n      <th>title</th>\n      <th>channel_title</th>\n      <th>category_id</th>\n      <th>tags</th>\n      <th>publish_time</th>\n      <th>views</th>\n      <th>likes</th>\n      <th>dislikes</th>\n      <th>comment_count</th>\n      <th>description</th>\n      <th>delta_days</th>\n    </tr>\n  </thead>\n  <tbody>\n    <tr>\n      <th>0</th>\n      <td>2kyS6SvSYSE</td>\n      <td>20171114</td>\n      <td>WE WANT TO TALK ABOUT OUR MARRIAGE</td>\n      <td>CaseyNeistat</td>\n      <td>22</td>\n      <td>SHANtell martin</td>\n      <td>2017-11-13T17:13:01.000Z</td>\n      <td>748374</td>\n      <td>57527</td>\n      <td>2966</td>\n      <td>15954</td>\n      <td>SHANTELL S CHANNEL https www youtube com shant...</td>\n      <td>1</td>\n    </tr>\n    <tr>\n      <th>1</th>\n      <td>1ZAPwfrtAFY</td>\n      <td>20171114</td>\n      <td>The Trump Presidency Last Week Tonight with Jo...</td>\n      <td>LastWeekTonight</td>\n      <td>24</td>\n      <td>last week tonight trump presidency last week t...</td>\n      <td>2017-11-13T07:30:00.000Z</td>\n      <td>2418783</td>\n      <td>97185</td>\n      <td>6146</td>\n      <td>12703</td>\n      <td>One year after the presidential election John ...</td>\n      <td>1</td>\n    </tr>\n    <tr>\n      <th>2</th>\n      <td>5qpjK5DgCt4</td>\n      <td>20171114</td>\n      <td>Racist Superman Rudy Mancuso King Bach Lele Pons</td>\n      <td>Rudy Mancuso</td>\n      <td>23</td>\n      <td>racist superman rudy mancuso king bach racist ...</td>\n      <td>2017-11-12T19:05:24.000Z</td>\n      <td>3191434</td>\n      <td>146033</td>\n      <td>5339</td>\n      <td>8181</td>\n      <td>WATCH MY PREVIOUS VIDEO ▶ n nSUBSCRIBE ► https...</td>\n      <td>2</td>\n    </tr>\n    <tr>\n      <th>3</th>\n      <td>puqaWrEC7tY</td>\n      <td>20171114</td>\n      <td>Nickelback Lyrics Real or Fake</td>\n      <td>Good Mythical Morning</td>\n      <td>24</td>\n      <td>rhett and link gmm good mythical morning rhett...</td>\n      <td>2017-11-13T11:00:04.000Z</td>\n      <td>343168</td>\n      <td>10172</td>\n      <td>666</td>\n      <td>2146</td>\n      <td>Today we find out if Link is a Nickelback amat...</td>\n      <td>1</td>\n    </tr>\n    <tr>\n      <th>4</th>\n      <td>d380meD0W0M</td>\n      <td>20171114</td>\n      <td>I Dare You GOING BALD</td>\n      <td>nigahiga</td>\n      <td>24</td>\n      <td>ryan higa higatv nigahiga i dare you idy rhpc ...</td>\n      <td>2017-11-12T18:01:41.000Z</td>\n      <td>2095731</td>\n      <td>132235</td>\n      <td>1989</td>\n      <td>17518</td>\n      <td>I know it s been a while since we did this sho...</td>\n      <td>2</td>\n    </tr>\n  </tbody>\n</table>\n</div>"
     },
     "metadata": {},
     "execution_count": 5
    }
   ],
   "source": [
    "ytb.head()"
   ]
  },
  {
   "cell_type": "code",
   "execution_count": 7,
   "metadata": {},
   "outputs": [],
   "source": [
    "ytb.to_csv('../data/04_delta_days/youtube_us_videos_delta_days.csv', index=False, header=0, quoting=csv.QUOTE_NONNUMERIC)"
   ]
  }
 ],
 "metadata": {
  "language_info": {
   "codemirror_mode": {
    "name": "ipython",
    "version": 3
   },
   "file_extension": ".py",
   "mimetype": "text/x-python",
   "name": "python",
   "nbconvert_exporter": "python",
   "pygments_lexer": "ipython3",
   "version": "3.8.2-final"
  },
  "orig_nbformat": 2,
  "kernelspec": {
   "name": "python38264bitcpconda12967470abc4436184252d287fc4035c",
   "display_name": "Python 3.8.2 64-bit ('cp': conda)"
  }
 },
 "nbformat": 4,
 "nbformat_minor": 2
}